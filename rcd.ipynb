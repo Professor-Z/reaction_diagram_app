{
 "cells": [
  {
   "cell_type": "code",
   "execution_count": null,
   "id": "a4d56155-f96b-4a7e-8dc4-850d90e9ac11",
   "metadata": {},
   "outputs": [
    {
     "data": {
      "application/vnd.plotly.v1+json": {
       "config": {
        "plotlyServerURL": "https://plot.ly"
       },
       "data": [
        {
         "mode": "lines",
         "name": "Energy Profile",
         "type": "scatter",
         "x": {
          "bdata": "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",
          "dtype": "f8"
         },
         "y": {
          "bdata": "AAAAAAAAAADJHqLh0IMhP/fSIU67b0E/Cbj1cRqHUz9UOyEnkEdhPzt2q4Zv4Go/JbgkoFFDcz+LhlWeURl6PwwMINk594A/SC8e6HlfhT/jJVH2hkOKP73o5P1+oY8/XbiC/L+7kj9hW+/w0+GVP9pZTlkKQpk/PbC1MnLbnD99rR09jVagP0GrehYJW6I/ps/8I7R6pD/lGC/kFbWmPzSFnNW1Cak/zRLQdht4qz/rv1RGzv+tP2PFWuEqULA/y7g+tZyssT9MuRteABWzPwBGN5sZibQ/Bd7WK6wItj93AEDPe5O3P3IsuERMKbk/FeGES+HJuj96neui/nS8P73gMQpoKr4//imdQOHpvz8rfLkCl9nAP3Fl/AsJw8E/YBC6myixwj+HPJWR16PDP3WpMM33msQ/tBYvLmuWxT/VQzOUE5bGP2Xw397Smcc/9dvX7YqhyD8Rxr2gHa3JP0luNNdsvMo/KJTecFrPyz9A915NyOXMPx5XWEyY/80/UHNtTawczz+zhSAYcx7QP3bvOuoTsNA/t1bXjClD0T8/G8fvpNfRP9Wc2wJ3bdI/PzvmtZAE0z9GVrj44pzTP69NI7teNtQ/Q4H47PTQ1D/IUAl+lmzVPwccJ140CdY/xEIjfb+m1j/KJM/KKEXXP9sh/DZh5Nc/wpl7sVmE2D9G7B4qAyXZPyt5t5BOxtk/PKAW1Sxo2j8/wQ3njgrbP/o7brZlrds/NHAJM6JQ3D+2vbBMNfTcP0eENfMPmN0/qyNpFiM83j+t+xymX+DePxJsIpK2hN8/U2olZYwU4D+TyjOfu2bgP7EGJW/huOA/js7hTPYK4T8P0lKw8lzhPxfBYBHPruE/iUv054MA4j9KIfarCVLiPz3yTtVYo+I/RW7n22n04j9HRag3NUXjPyYnemCzleM/xMNFztzl4z8Fy/P4qTXkP87sbFgTheQ/AtmZZBHU5D+EP2OVnCLlPzjQsWKtcOU/AztuRDy+5T/GL4GyQQvmP2Ze0yS2V+Y/xXZNE5Kj5j/KKNj1ze7mP1QkXERiOec/SxnCdkeD5z+Qt/IEdsznPwav1mbmFOg/kq9WFJFc6D8YaVuFbqPoP3qLzTF36eg/nMaVkaMu6T9jypwc7HLpP7FGy0pJtuk/ausJlLP46T9xaEFwIzrqP6ttWleReuo/+qo9wfW56j9E0NMlSfjqP2qNBf2DNes/UJK7vp5x6z/ajt7ikazrP+syV+FV5us/aS4OMuMe7D81MexMMlbsPzLr2ak7jOw/RwzAwPfA7D9URIcJX/TsP0BDGPxpJu0/6bhbEBFX7T85VTq+TIbtPw/InH0VtO0/UsFrxmPg7T/h8I8QMAvuP6cG8tNyNO4/gbJ6iCRc7j9RpBKmPYLuPwOMoqS2pu4/chkT/IfJ7j+J/EwkquruPyblOJUVCu8/LIO/xsIn7z+EhskwqkPvPwyfP0vEXe8/rXwKjgl27z9FzxJxcozvP7xGQWz3oO8/9ZJ+95Cz7z/OY7OKN8TvPzNpyJ3j0u8/AFOmqI3f7z8g0TUjLurvP26TX4W98u8/1kkMRzT57z85pCTgiv3vP3RSkci5/+8/dFKRyLn/7z88pCTgiv3vP9RJDEc0+e8/dJNfhb3y7z8U0TUjLurvPwRTpqiN3+8/LGnInePS7z/UY7OKN8TvP/SSfveQs+8/xEZBbPeg7z9EzxJxcozvP6x8Co4Jdu8/DJ8/S8Rd7z+MhskwqkPvPySDv8bCJ+8/JOU4lRUK7z+E/EwkquruP3QZE/yHye4//IuipLam7j9MpBKmPYLuP4SyeogkXO4/rAby03I07j/k8I8QMAvuP0zBa8Zj4O0/FMicfRW07T8sVTq+TIbtP/S4WxARV+0/PEMY/Gkm7T9cRIcJX/TsPzwMwMD3wOw/POvZqTuM7D80MexMMlbsP1wuDjLjHuw/7DJX4VXm6z/kjt7ikazrP1SSu76eces/ZI0F/YM16z880NMlSfjqP/yqPcH1ueo/rG1aV5F66j90aEFwIzrqP3TrCZSz+Ok/rEbLSkm26T9kypwc7HLpP5TGlZGjLuk/fIvNMXfp6D8MaVuFbqPoP5yvVhSRXOg/BK/WZuYU6D+Ut/IEdsznPzwZwnZHg+c/XCRcRGI55z/MKNj1ze7mP7x2TROSo+Y/XF7TJLZX5j/cL4GyQQvmP/w6bkQ8vuU/PNCxYq1w5T98P2OVnCLlP/TYmWQR1OQ/zOxsWBOF5D/8yvP4qTXkP8TDRc7c5eM/HCd6YLOV4z9ERag3NUXjP0xu59tp9OI/RPJO1Vij4j9EIfarCVLiP4xL9OeDAOI/DMFgEc+u4T8M0lKw8lzhP4zO4Uz2CuE/pAYlb+G44D+UyjOfu2bgP1xqJWWMFOA/GGwikraE3z+4+xymX+DeP5gjaRYjPN4/WIQ18w+Y3T+ovbBMNfTcPyhwCTOiUNw/CDxutmWt2z84wQ3njgrbP1igFtUsaNo/OHm3kE7G2T9Y7B4qAyXZP8iZe7FZhNg/yCH8NmHk1z/IJM/KKEXXP8hCI32/ptY/CBwnXjQJ1j/IUAl+lmzVP1iB+Oz00NQ/qE0ju1421D84Vrj44pzTP0g75rWQBNM/2JzbAndt0j84G8fvpNfRP7hW14wpQ9E/aO866hOw0D+YhSAYcx7QP3BzbU2sHM8/EFdYTJj/zT8w915NyOXMPzCU3nBaz8s/UG4012y8yj9Qxr2gHa3JPxDc1+2Kocg/cPDf3tKZxz/QQzOUE5bGP5AWLy5rlsU/sKkwzfeaxD+QPJWR16PDP1AQupsoscI/UGX8CwnDwT8QfLkCl9nAP6ApnUDh6b8/IOExCmgqvj/gneui/nS8PyDhhEvhybo/ICy4REwpuT8gAEDPe5O3P+Dd1iusCLY/IEY3mxmJtD9guRteABWzP+C4PrWcrLE/YMVa4SpQsD/AwFRGzv+tP0AT0HYbeKs/wIWc1bUJqT9AGC/kFbWmP8DO/CO0eqQ/wKt6Fglboj9ArR09jVagP4CvtTJy25w/gFlOWQpCmT+AW+/w0+GVP4C1gvy/u5I/AOvk/X6hjz8AJ1H2hkOKPwAvHuh5X4U/AAsg2Tn3gD8AelWeURl6PwC6JKBRQ3M/AGyrhm/gaj8APCEnkEdhPwCo9XEah1M/AHAhTrtvQT8AwKHh0IMhPwAAAAAAAMC8",
          "dtype": "f8"
         }
        },
        {
         "customdata": [
          "reactant"
         ],
         "hoverinfo": "skip",
         "marker": {
          "color": "blue",
          "size": 12
         },
         "mode": "markers",
         "name": "Reactant",
         "showlegend": false,
         "type": "scatter",
         "x": [
          0
         ],
         "y": [
          0
         ]
        },
        {
         "customdata": [
          "product"
         ],
         "hoverinfo": "skip",
         "marker": {
          "color": "red",
          "size": 12
         },
         "mode": "markers",
         "name": "Product",
         "showlegend": false,
         "type": "scatter",
         "x": [
          10
         ],
         "y": [
          0
         ]
        },
        {
         "customdata": [
          "ts"
         ],
         "hoverinfo": "skip",
         "marker": {
          "color": "purple",
          "size": 12
         },
         "mode": "markers",
         "name": "Ts",
         "showlegend": false,
         "type": "scatter",
         "x": [
          5
         ],
         "y": [
          1
         ]
        }
       ],
       "layout": {
        "dragmode": "orbit",
        "template": {
         "data": {
          "bar": [
           {
            "error_x": {
             "color": "#2a3f5f"
            },
            "error_y": {
             "color": "#2a3f5f"
            },
            "marker": {
             "line": {
              "color": "#E5ECF6",
              "width": 0.5
             },
             "pattern": {
              "fillmode": "overlay",
              "size": 10,
              "solidity": 0.2
             }
            },
            "type": "bar"
           }
          ],
          "barpolar": [
           {
            "marker": {
             "line": {
              "color": "#E5ECF6",
              "width": 0.5
             },
             "pattern": {
              "fillmode": "overlay",
              "size": 10,
              "solidity": 0.2
             }
            },
            "type": "barpolar"
           }
          ],
          "carpet": [
           {
            "aaxis": {
             "endlinecolor": "#2a3f5f",
             "gridcolor": "white",
             "linecolor": "white",
             "minorgridcolor": "white",
             "startlinecolor": "#2a3f5f"
            },
            "baxis": {
             "endlinecolor": "#2a3f5f",
             "gridcolor": "white",
             "linecolor": "white",
             "minorgridcolor": "white",
             "startlinecolor": "#2a3f5f"
            },
            "type": "carpet"
           }
          ],
          "choropleth": [
           {
            "colorbar": {
             "outlinewidth": 0,
             "ticks": ""
            },
            "type": "choropleth"
           }
          ],
          "contour": [
           {
            "colorbar": {
             "outlinewidth": 0,
             "ticks": ""
            },
            "colorscale": [
             [
              0,
              "#0d0887"
             ],
             [
              0.1111111111111111,
              "#46039f"
             ],
             [
              0.2222222222222222,
              "#7201a8"
             ],
             [
              0.3333333333333333,
              "#9c179e"
             ],
             [
              0.4444444444444444,
              "#bd3786"
             ],
             [
              0.5555555555555556,
              "#d8576b"
             ],
             [
              0.6666666666666666,
              "#ed7953"
             ],
             [
              0.7777777777777778,
              "#fb9f3a"
             ],
             [
              0.8888888888888888,
              "#fdca26"
             ],
             [
              1,
              "#f0f921"
             ]
            ],
            "type": "contour"
           }
          ],
          "contourcarpet": [
           {
            "colorbar": {
             "outlinewidth": 0,
             "ticks": ""
            },
            "type": "contourcarpet"
           }
          ],
          "heatmap": [
           {
            "colorbar": {
             "outlinewidth": 0,
             "ticks": ""
            },
            "colorscale": [
             [
              0,
              "#0d0887"
             ],
             [
              0.1111111111111111,
              "#46039f"
             ],
             [
              0.2222222222222222,
              "#7201a8"
             ],
             [
              0.3333333333333333,
              "#9c179e"
             ],
             [
              0.4444444444444444,
              "#bd3786"
             ],
             [
              0.5555555555555556,
              "#d8576b"
             ],
             [
              0.6666666666666666,
              "#ed7953"
             ],
             [
              0.7777777777777778,
              "#fb9f3a"
             ],
             [
              0.8888888888888888,
              "#fdca26"
             ],
             [
              1,
              "#f0f921"
             ]
            ],
            "type": "heatmap"
           }
          ],
          "histogram": [
           {
            "marker": {
             "pattern": {
              "fillmode": "overlay",
              "size": 10,
              "solidity": 0.2
             }
            },
            "type": "histogram"
           }
          ],
          "histogram2d": [
           {
            "colorbar": {
             "outlinewidth": 0,
             "ticks": ""
            },
            "colorscale": [
             [
              0,
              "#0d0887"
             ],
             [
              0.1111111111111111,
              "#46039f"
             ],
             [
              0.2222222222222222,
              "#7201a8"
             ],
             [
              0.3333333333333333,
              "#9c179e"
             ],
             [
              0.4444444444444444,
              "#bd3786"
             ],
             [
              0.5555555555555556,
              "#d8576b"
             ],
             [
              0.6666666666666666,
              "#ed7953"
             ],
             [
              0.7777777777777778,
              "#fb9f3a"
             ],
             [
              0.8888888888888888,
              "#fdca26"
             ],
             [
              1,
              "#f0f921"
             ]
            ],
            "type": "histogram2d"
           }
          ],
          "histogram2dcontour": [
           {
            "colorbar": {
             "outlinewidth": 0,
             "ticks": ""
            },
            "colorscale": [
             [
              0,
              "#0d0887"
             ],
             [
              0.1111111111111111,
              "#46039f"
             ],
             [
              0.2222222222222222,
              "#7201a8"
             ],
             [
              0.3333333333333333,
              "#9c179e"
             ],
             [
              0.4444444444444444,
              "#bd3786"
             ],
             [
              0.5555555555555556,
              "#d8576b"
             ],
             [
              0.6666666666666666,
              "#ed7953"
             ],
             [
              0.7777777777777778,
              "#fb9f3a"
             ],
             [
              0.8888888888888888,
              "#fdca26"
             ],
             [
              1,
              "#f0f921"
             ]
            ],
            "type": "histogram2dcontour"
           }
          ],
          "mesh3d": [
           {
            "colorbar": {
             "outlinewidth": 0,
             "ticks": ""
            },
            "type": "mesh3d"
           }
          ],
          "parcoords": [
           {
            "line": {
             "colorbar": {
              "outlinewidth": 0,
              "ticks": ""
             }
            },
            "type": "parcoords"
           }
          ],
          "pie": [
           {
            "automargin": true,
            "type": "pie"
           }
          ],
          "scatter": [
           {
            "fillpattern": {
             "fillmode": "overlay",
             "size": 10,
             "solidity": 0.2
            },
            "type": "scatter"
           }
          ],
          "scatter3d": [
           {
            "line": {
             "colorbar": {
              "outlinewidth": 0,
              "ticks": ""
             }
            },
            "marker": {
             "colorbar": {
              "outlinewidth": 0,
              "ticks": ""
             }
            },
            "type": "scatter3d"
           }
          ],
          "scattercarpet": [
           {
            "marker": {
             "colorbar": {
              "outlinewidth": 0,
              "ticks": ""
             }
            },
            "type": "scattercarpet"
           }
          ],
          "scattergeo": [
           {
            "marker": {
             "colorbar": {
              "outlinewidth": 0,
              "ticks": ""
             }
            },
            "type": "scattergeo"
           }
          ],
          "scattergl": [
           {
            "marker": {
             "colorbar": {
              "outlinewidth": 0,
              "ticks": ""
             }
            },
            "type": "scattergl"
           }
          ],
          "scattermap": [
           {
            "marker": {
             "colorbar": {
              "outlinewidth": 0,
              "ticks": ""
             }
            },
            "type": "scattermap"
           }
          ],
          "scattermapbox": [
           {
            "marker": {
             "colorbar": {
              "outlinewidth": 0,
              "ticks": ""
             }
            },
            "type": "scattermapbox"
           }
          ],
          "scatterpolar": [
           {
            "marker": {
             "colorbar": {
              "outlinewidth": 0,
              "ticks": ""
             }
            },
            "type": "scatterpolar"
           }
          ],
          "scatterpolargl": [
           {
            "marker": {
             "colorbar": {
              "outlinewidth": 0,
              "ticks": ""
             }
            },
            "type": "scatterpolargl"
           }
          ],
          "scatterternary": [
           {
            "marker": {
             "colorbar": {
              "outlinewidth": 0,
              "ticks": ""
             }
            },
            "type": "scatterternary"
           }
          ],
          "surface": [
           {
            "colorbar": {
             "outlinewidth": 0,
             "ticks": ""
            },
            "colorscale": [
             [
              0,
              "#0d0887"
             ],
             [
              0.1111111111111111,
              "#46039f"
             ],
             [
              0.2222222222222222,
              "#7201a8"
             ],
             [
              0.3333333333333333,
              "#9c179e"
             ],
             [
              0.4444444444444444,
              "#bd3786"
             ],
             [
              0.5555555555555556,
              "#d8576b"
             ],
             [
              0.6666666666666666,
              "#ed7953"
             ],
             [
              0.7777777777777778,
              "#fb9f3a"
             ],
             [
              0.8888888888888888,
              "#fdca26"
             ],
             [
              1,
              "#f0f921"
             ]
            ],
            "type": "surface"
           }
          ],
          "table": [
           {
            "cells": {
             "fill": {
              "color": "#EBF0F8"
             },
             "line": {
              "color": "white"
             }
            },
            "header": {
             "fill": {
              "color": "#C8D4E3"
             },
             "line": {
              "color": "white"
             }
            },
            "type": "table"
           }
          ]
         },
         "layout": {
          "annotationdefaults": {
           "arrowcolor": "#2a3f5f",
           "arrowhead": 0,
           "arrowwidth": 1
          },
          "autotypenumbers": "strict",
          "coloraxis": {
           "colorbar": {
            "outlinewidth": 0,
            "ticks": ""
           }
          },
          "colorscale": {
           "diverging": [
            [
             0,
             "#8e0152"
            ],
            [
             0.1,
             "#c51b7d"
            ],
            [
             0.2,
             "#de77ae"
            ],
            [
             0.3,
             "#f1b6da"
            ],
            [
             0.4,
             "#fde0ef"
            ],
            [
             0.5,
             "#f7f7f7"
            ],
            [
             0.6,
             "#e6f5d0"
            ],
            [
             0.7,
             "#b8e186"
            ],
            [
             0.8,
             "#7fbc41"
            ],
            [
             0.9,
             "#4d9221"
            ],
            [
             1,
             "#276419"
            ]
           ],
           "sequential": [
            [
             0,
             "#0d0887"
            ],
            [
             0.1111111111111111,
             "#46039f"
            ],
            [
             0.2222222222222222,
             "#7201a8"
            ],
            [
             0.3333333333333333,
             "#9c179e"
            ],
            [
             0.4444444444444444,
             "#bd3786"
            ],
            [
             0.5555555555555556,
             "#d8576b"
            ],
            [
             0.6666666666666666,
             "#ed7953"
            ],
            [
             0.7777777777777778,
             "#fb9f3a"
            ],
            [
             0.8888888888888888,
             "#fdca26"
            ],
            [
             1,
             "#f0f921"
            ]
           ],
           "sequentialminus": [
            [
             0,
             "#0d0887"
            ],
            [
             0.1111111111111111,
             "#46039f"
            ],
            [
             0.2222222222222222,
             "#7201a8"
            ],
            [
             0.3333333333333333,
             "#9c179e"
            ],
            [
             0.4444444444444444,
             "#bd3786"
            ],
            [
             0.5555555555555556,
             "#d8576b"
            ],
            [
             0.6666666666666666,
             "#ed7953"
            ],
            [
             0.7777777777777778,
             "#fb9f3a"
            ],
            [
             0.8888888888888888,
             "#fdca26"
            ],
            [
             1,
             "#f0f921"
            ]
           ]
          },
          "colorway": [
           "#636efa",
           "#EF553B",
           "#00cc96",
           "#ab63fa",
           "#FFA15A",
           "#19d3f3",
           "#FF6692",
           "#B6E880",
           "#FF97FF",
           "#FECB52"
          ],
          "font": {
           "color": "#2a3f5f"
          },
          "geo": {
           "bgcolor": "white",
           "lakecolor": "white",
           "landcolor": "#E5ECF6",
           "showlakes": true,
           "showland": true,
           "subunitcolor": "white"
          },
          "hoverlabel": {
           "align": "left"
          },
          "hovermode": "closest",
          "mapbox": {
           "style": "light"
          },
          "paper_bgcolor": "white",
          "plot_bgcolor": "#E5ECF6",
          "polar": {
           "angularaxis": {
            "gridcolor": "white",
            "linecolor": "white",
            "ticks": ""
           },
           "bgcolor": "#E5ECF6",
           "radialaxis": {
            "gridcolor": "white",
            "linecolor": "white",
            "ticks": ""
           }
          },
          "scene": {
           "xaxis": {
            "backgroundcolor": "#E5ECF6",
            "gridcolor": "white",
            "gridwidth": 2,
            "linecolor": "white",
            "showbackground": true,
            "ticks": "",
            "zerolinecolor": "white"
           },
           "yaxis": {
            "backgroundcolor": "#E5ECF6",
            "gridcolor": "white",
            "gridwidth": 2,
            "linecolor": "white",
            "showbackground": true,
            "ticks": "",
            "zerolinecolor": "white"
           },
           "zaxis": {
            "backgroundcolor": "#E5ECF6",
            "gridcolor": "white",
            "gridwidth": 2,
            "linecolor": "white",
            "showbackground": true,
            "ticks": "",
            "zerolinecolor": "white"
           }
          },
          "shapedefaults": {
           "line": {
            "color": "#2a3f5f"
           }
          },
          "ternary": {
           "aaxis": {
            "gridcolor": "white",
            "linecolor": "white",
            "ticks": ""
           },
           "baxis": {
            "gridcolor": "white",
            "linecolor": "white",
            "ticks": ""
           },
           "bgcolor": "#E5ECF6",
           "caxis": {
            "gridcolor": "white",
            "linecolor": "white",
            "ticks": ""
           }
          },
          "title": {
           "x": 0.05
          },
          "xaxis": {
           "automargin": true,
           "gridcolor": "white",
           "linecolor": "white",
           "ticks": "",
           "title": {
            "standoff": 15
           },
           "zerolinecolor": "white",
           "zerolinewidth": 2
          },
          "yaxis": {
           "automargin": true,
           "gridcolor": "white",
           "linecolor": "white",
           "ticks": "",
           "title": {
            "standoff": 15
           },
           "zerolinecolor": "white",
           "zerolinewidth": 2
          }
         }
        },
        "title": {
         "text": "Reaction Coordinate Diagram"
        },
        "xaxis": {
         "range": [
          -1,
          11
         ]
        },
        "yaxis": {
         "range": [
          -1,
          4
         ]
        }
       }
      },
      "image/png": "[encoded data removed]"
     },
     "metadata": {},
     "output_type": "display_data"
    }
   ],
   "source": [
    "import numpy as np\n",
    "import matplotlib\n",
    "import matplotlib.pyplot as plt\n",
    "import matplotlib.patches as patches\n",
    "from matplotlib.widgets import Button\n",
    "import matplotlib.colors as mcolors\n",
    "from matplotlib.colors import LinearSegmentedColormap  # Import LinearSegmentedColormap\n",
    "\n",
    "# Remove the toolbar\n",
    "#  matplotlib.rcParams['toolbar'] = 'None'\n",
    "\n",
    "# Track the state of Shift key presses\n",
    "shift_pressed = False\n",
    "\n",
    "# Define the color spectrum as per your description\n",
    "color_list = [\n",
    "    \"#9000FF\",  # purple\n",
    "    \"#FB00FF\",  # purple\n",
    "    \"#002AFF\",  # blue    \n",
    "    \"#00BBFF\",  # blue\n",
    "    \"#037303\",  # green    \n",
    "    \"#03E203\",  # green\n",
    "    '#FFFF00',  # yellow\n",
    "    \"#F6B132\",  # orange\n",
    "    '#FF0000',  # red\n",
    "    \"#6A0202\"   # dark red\n",
    "]\n",
    "cm = mcolors.LinearSegmentedColormap.from_list(\"DeltaHColors\", color_list)\n",
    "\n",
    "# Create a smooth gradient colormap\n",
    "cmap = LinearSegmentedColormap.from_list(\"spectrum\", color_list, N=256)\n",
    "\n",
    "# Define the range for ΔH\n",
    "deltaH_min = -5  # large exothermic (negative)\n",
    "deltaH_max = 5   # large endothermic (positive)\n",
    "\n",
    "\n",
    "# Initialize energies\n",
    "reactant_energy = 10\n",
    "product_energy = 10\n",
    "activation_energy = 1.4\n",
    "\n",
    "labels_visible = True\n",
    "button_is_on = True\n",
    "\n",
    "endothermic_mode = False  # Default mode is not endothermic\n",
    "exothermic_mode = False # Default mode is not exothermic\n",
    "# Default starting positions for endothermic mode\n",
    "ENDOTHERMIC_REACTANT_ENERGY = 10  # Fixed reactant energy\n",
    "ENDOTHERMIC_PRODUCT_ENERGY = 12   # Initial product energy\n",
    "ENDOTHERMIC_PEAK_ENERGY = 13.55      # Initial transition state energy\n",
    "# Default starting positions for exothermic mode\n",
    "EXOTHERMIC_REACTANT_ENERGY = 10  # Fixed reactant energy\n",
    "EXOTHERMIC_PRODUCT_ENERGY = 8    # Initial product energy\n",
    "EXOTHERMIC_PEAK_ENERGY = 11.4      # Initial transition state energy\n",
    "\n",
    "initial_max_energy = max(ENDOTHERMIC_REACTANT_ENERGY, ENDOTHERMIC_PRODUCT_ENERGY, ENDOTHERMIC_PEAK_ENERGY)\n",
    "initial_min_energy = min(ENDOTHERMIC_REACTANT_ENERGY, ENDOTHERMIC_PRODUCT_ENERGY, ENDOTHERMIC_PEAK_ENERGY)\n",
    "\n",
    "x = np.linspace(0, 10, 500)\n",
    "\n",
    "# Transition state initial position\n",
    "peak_x = 5\n",
    "peak_y = reactant_energy + activation_energy\n",
    "\n",
    "def cubic_with_conditions(x0, y0, x1, y1, x2, y2, slope0=0, slope2=0):\n",
    "    A_full = np.array([\n",
    "        [x0**3, x0**2, x0, 1],\n",
    "        [3*x0**2, 2*x0, 1, 0],\n",
    "        [x2**3, x2**2, x2, 1],\n",
    "        [3*x2**2, 2*x2, 1, 0],\n",
    "    ])\n",
    "    b_full = np.array([y0, slope0, y2, slope2])\n",
    "    coeffs = np.linalg.solve(A_full, b_full)\n",
    "    return np.poly1d(coeffs)\n",
    "\n",
    "def generate_left_segment():\n",
    "    x_inflect = peak_x / 2\n",
    "    y_inflect = (reactant_energy + peak_y) / 2\n",
    "    return cubic_with_conditions(\n",
    "        x0=0,\n",
    "        y0=reactant_energy,\n",
    "        x1=x_inflect,\n",
    "        y1=y_inflect,\n",
    "        x2=peak_x,\n",
    "        y2=peak_y,\n",
    "        slope0=0,\n",
    "        slope2=0\n",
    "    )\n",
    "\n",
    "def generate_right_segment():\n",
    "    x_inflect = peak_x + (x[-1] - peak_x) / 2\n",
    "    y_inflect = (peak_y + product_energy) / 2\n",
    "    return cubic_with_conditions(\n",
    "        x0=peak_x,\n",
    "        y0=peak_y,\n",
    "        x1=x_inflect,\n",
    "        y1=y_inflect,\n",
    "        x2=x[-1],\n",
    "        y2=product_energy,\n",
    "        slope0=0,\n",
    "        slope2=0\n",
    "    )\n",
    "\n",
    "def compute_energy():\n",
    "    left_poly = generate_left_segment()\n",
    "    right_poly = generate_right_segment()\n",
    "    y_vals = np.empty_like(x)\n",
    "    mask_left = x <= peak_x\n",
    "    mask_right = x > peak_x\n",
    "    y_vals[mask_left] = left_poly(x[mask_left])\n",
    "    y_vals[mask_right] = right_poly(x[mask_right])\n",
    "    return y_vals\n",
    "\n",
    "# Plot setup\n",
    "y_data = compute_energy()\n",
    "\n",
    "fig, ax = plt.subplots()\n",
    "line, = ax.plot(x, y_data, color='grey', lw=2)\n",
    "ax.set_xlabel('Reaction Coordinate', fontweight='bold')\n",
    "ax.set_ylabel('Energy', fontweight='bold')\n",
    "ax.set_xlim(-1, 11)\n",
    "ax.set_ylim(4, 18)\n",
    "ax.set_title('Reaction Coordinate Diagram', fontweight=\"bold\")\n",
    "\n",
    "# Enable grid lines with faint gray color\n",
    "ax.grid(True, color='gray', linestyle='--', linewidth=0.5, alpha=0.5)\n",
    "\n",
    "# Set grid lines at 1-unit intervals\n",
    "ax.set_xticks(np.arange(-1, 12, 1))\n",
    "ax.set_yticks(np.arange(4, 19, 1))  # Adjusted to match y-axis limits (4 to 18)\n",
    "\n",
    "def on_lims_change(event_ax):\n",
    "    \"\"\"\n",
    "    Callback function to update gridlines when axis limits change.\n",
    "    \"\"\"\n",
    "    # Enable grid lines with faint gray color\n",
    "    event_ax.grid(True, color='gray', linestyle='--', linewidth=0.5, alpha=0.5)\n",
    "\n",
    "    # Explicitly set gridline positions based on current axis limits\n",
    "    x_min, x_max = event_ax.get_xlim()\n",
    "    y_min, y_max = event_ax.get_ylim()\n",
    "\n",
    "    # Set x-axis gridlines at 1-unit intervals\n",
    "    event_ax.set_xticks(np.arange(np.floor(x_min), np.ceil(x_max) + 1, 1))\n",
    "\n",
    "    # Set y-axis gridlines at 1-unit intervals\n",
    "    event_ax.set_yticks(np.arange(np.floor(y_min), np.ceil(y_max) + 1, 1))\n",
    "\n",
    "    # Redraw the plot\n",
    "    plt.draw()\n",
    "\n",
    "# Connect the callback function to the axis\n",
    "ax.callbacks.connect('xlim_changed', on_lims_change)\n",
    "ax.callbacks.connect('ylim_changed', on_lims_change)\n",
    "\n",
    "# Manually call on_lims_change to initialize the grid lines properly\n",
    "on_lims_change(ax)\n",
    "\n",
    "\n",
    "# Draw dashed horizontal lines at energies\n",
    "reactant_line = ax.axhline(reactant_energy, color='grey', linestyle='--')\n",
    "product_line = ax.axhline(product_energy, color='grey', linestyle='--')\n",
    "ts_line = ax.axhline(peak_y, color='grey', linestyle='--')\n",
    "\n",
    "# Initialize variables to store the Ea arrow label and delta H label\n",
    "ea_arrow = None\n",
    "ea_label = None\n",
    "show_ea = False\n",
    "show_deltaH = False\n",
    "deltaH_arrow = None\n",
    "deltaH_label = None\n",
    "BUTTON_PALE_GREEN = 'palegreen'\n",
    "BUTTON_PALE_ORANGE = 'peachpuff'\n",
    "\n",
    "\n",
    "\n",
    "# Initialize variables for saved curves\n",
    "saved_curves = []  # List to store saved curves\n",
    "color_sequence = ['green', 'orange', 'red']  # Color sequence for saved curves\n",
    "color_index = 0  # Index to track the current color\n",
    "\n",
    "\n",
    "# After your initial plot setup, add:\n",
    "x_arrow_init = peak_x - 0.5\n",
    "y_start_init = reactant_energy\n",
    "y_end_init = peak_y\n",
    "x_deltaH = peak_x + 0.5  # adjust as needed for visual clarity\n",
    "y_start_deltaH = reactant_energy\n",
    "y_end_deltaH = product_energy\n",
    "\n",
    "# Transition state point (draggable)\n",
    "peak_point, = ax.plot(peak_x, peak_y, 'o', markersize=12, picker=5)\n",
    "\n",
    "# Define the color interpolation function early, after imports\n",
    "def get_transition_color(peak_x):\n",
    "    t = (peak_x - 1) / (9.9 - 0.1)\n",
    "    t = np.clip(t, 0, 1)\n",
    "    if t <= 0.5:\n",
    "        t2 = t / 0.5\n",
    "        r = 0 + t2 * 0.5\n",
    "        g = 0\n",
    "        b = 1 + t2 * (-0.5)\n",
    "    else:\n",
    "        t2 = (t - 0.5) / 0.5\n",
    "        r = 0.5 + t2 * 0.5\n",
    "        g = 0\n",
    "        b = 0.5 + t2 * (-0.5)\n",
    "    return r, g, b\n",
    "\n",
    "# Set initial color based on the starting position\n",
    "r, g, b = get_transition_color(peak_x)\n",
    "initial_color = (r, g, b)  # assuming get_transition_color returns normalized [0,1]\n",
    "peak_point.set_markerfacecolor(initial_color)\n",
    "peak_point.set_markeredgecolor(initial_color)\n",
    "\n",
    "# Reactant and product points (draggable)\n",
    "reactant_point, = ax.plot(0, reactant_energy, 'o', color='blue', markersize=12, markerfacecolor='blue', picker=5)\n",
    "product_point, = ax.plot(10, product_energy, 'o', color='red', markersize=12, markerfacecolor='red', picker=5)\n",
    "\n",
    "# Keep track of which point is being dragged\n",
    "dragging_point = None\n",
    "\n",
    "# Reactant text label\n",
    "reactant_label = ax.text(0, reactant_energy + 0.5, 'REACTANT', color='blue', weight='bold', ha='center', va='bottom', fontsize=10)\n",
    "\n",
    "# Product text label\n",
    "product_label = ax.text(10, product_energy - 0.5, 'PRODUCT', color='red', weight='bold', ha='center', va='top', fontsize=10)\n",
    "\n",
    "# TS text label\n",
    "ts_label = ax.text(peak_x, peak_y + 0.5, 'TRANSITION STATE', color='purple', weight='bold', ha='center', va='bottom', fontsize=10)\n",
    "\n",
    "      \n",
    "def update_plot():\n",
    "    global reactant_point, product_point, peak_point, reactant_energy, product_energy, peak_y, peak_x, ea_arrow, ea_label, deltaH_arrow, deltaH_label\n",
    "\n",
    "    if endothermic_mode:\n",
    "        reactant_energy = ENDOTHERMIC_REACTANT_ENERGY  # Enforce fixed reactant energy\n",
    "    elif exothermic_mode:\n",
    "        reactant_energy = EXOTHERMIC_REACTANT_ENERGY  # Enforce fixed reactant energy\n",
    "\n",
    "    # Compute delta_H for Hammond's postulate\n",
    "    delta_H = product_energy - reactant_energy\n",
    "\n",
    "    # Map delta_H to normalized value [-1, 1], clamp\n",
    "    max_delta = 10  # Adjust this value based on your energy scale\n",
    "    delta_clamped = np.clip(delta_H, -max_delta, max_delta)\n",
    "    norm_delta = delta_clamped / max_delta\n",
    "\n",
    "    # Map to position between 1 and 9\n",
    "    peak_x = 5 + norm_delta * 4\n",
    "    peak_x = np.clip(peak_x, 1, 9)  # Ensure peak_x stays within bounds\n",
    "\n",
    "    # Recompute energy profile with updated position\n",
    "    ynew = compute_energy()\n",
    "\n",
    "    # Update the energy plot\n",
    "    line.set_data(x, ynew)\n",
    "\n",
    "    # Update TS position\n",
    "    peak_point.set_xdata([peak_x])\n",
    "    peak_point.set_ydata([peak_y])\n",
    "\n",
    "    # Get interpolated color for transition state\n",
    "    r, g, b = get_transition_color(peak_x)\n",
    "\n",
    "    # Set the marker color\n",
    "    peak_point.set_markerfacecolor((r, g, b))\n",
    "    peak_point.set_markeredgecolor((r, g, b))\n",
    "\n",
    "    # Keep reactant and product points connected to the energies\n",
    "    reactant_point.set_xdata([0])\n",
    "    reactant_point.set_ydata([reactant_energy])\n",
    "    product_point.set_xdata([10])\n",
    "    product_point.set_ydata([product_energy])\n",
    "\n",
    "    # Dynamically adjust plot y-limits\n",
    "    #ymin = min(reactant_energy, product_energy, peak_y) - 2  # Add padding\n",
    "    #ymax = max(reactant_energy, product_energy, peak_y) + 2  # Add padding\n",
    "\n",
    "\n",
    "\n",
    "    # Update the horizontal lines to match current energies\n",
    "    reactant_line.set_ydata([reactant_point.get_ydata()[0]])\n",
    "    product_line.set_ydata([product_point.get_ydata()[0]])\n",
    "    ts_line.set_ydata([peak_point.get_ydata()[0]])\n",
    "\n",
    "    # Update Ea arrow and label\n",
    "    if ea_arrow is not None:\n",
    "        ea_arrow.remove()\n",
    "        ea_arrow = None\n",
    "    if ea_label is not None:\n",
    "        ea_label.remove()\n",
    "        ea_label = None\n",
    "\n",
    "    # Calculate arrow position just left of the peak (always define these variables)\n",
    "    x_arrow = peak_x - 0.5  # Adjust x position of the arrow\n",
    "    y_start = reactant_energy\n",
    "    y_end = peak_y\n",
    "\n",
    "    # Only create Ea arrow and label if show_ea is True\n",
    "    if show_ea:\n",
    "        ea_arrow = ax.annotate('', xy=(x_arrow, y_end), xytext=(x_arrow, y_start), arrowprops=dict(arrowstyle='<->', color='green', lw=2), visible=show_ea)\n",
    "        ea_label = ax.text(x_arrow - 0.1, (y_start + y_end) / 2, r'$E_a$', color='green', weight='bold', ha='right', va='center', visible=show_ea)\n",
    "    else:\n",
    "        ea_arrow = None\n",
    "        ea_label = None\n",
    "\n",
    "    # Update ΔH arrow and label\n",
    "    if deltaH_arrow is not None:\n",
    "        deltaH_arrow.remove()\n",
    "        deltaH_arrow = None\n",
    "    if deltaH_label is not None:\n",
    "        deltaH_label.remove()\n",
    "        deltaH_label = None\n",
    "\n",
    "    # Calculate arrow position just right of the peak (always define these variables)\n",
    "    x_deltaH = peak_x + 0.5  # Adjust x position of the arrow\n",
    "    y_start_deltaH = reactant_energy\n",
    "    y_end_deltaH = product_energy\n",
    "\n",
    "    # Only create ΔH arrow and label if show_deltaH is True\n",
    "    if show_deltaH:\n",
    "        deltaH_arrow = ax.annotate('', xy=(x_deltaH, y_end_deltaH), xytext=(x_deltaH, y_start_deltaH), arrowprops=dict(arrowstyle='<->', color='orange', lw=2), visible=show_deltaH)\n",
    "        deltaH_label = ax.text(x_deltaH + 0.1, (y_start_deltaH + y_end_deltaH) / 2, r'$\\Delta H$', color='orange', weight='bold', ha='left', va='center', visible=show_deltaH)\n",
    "    else:\n",
    "        deltaH_arrow = None\n",
    "        deltaH_label = None\n",
    "\n",
    "    reactant_label.set_x(0)\n",
    "    reactant_label.set_y(reactant_energy + 0.5)  # adjust vertical offset as needed\n",
    "\n",
    "    product_label.set_x(10)\n",
    "    product_label.set_y(product_energy - 0.5)  # adjust vertical offset as needed\n",
    "\n",
    "    # Update position of the label to stay above the transition state\n",
    "    ts_label.set_x(peak_x)\n",
    "    ts_label.set_y(peak_y + 0.5)\n",
    "\n",
    "    # Match the label's color to the transition state icon's color\n",
    "    r, g, b = get_transition_color(peak_x)\n",
    "    ts_label.set_color((r, g, b))\n",
    "\n",
    "    plt.draw()\n",
    "\n",
    "\n",
    "# Function to toggle Ea arrow and label visibility\n",
    "def toggle_ea(event):\n",
    "    global show_ea\n",
    "    show_ea = not show_ea\n",
    "    update_plot()  # Call update_plot to recreate the arrow and label with updated values\n",
    "    toggle_button.label.set_text('Hide Ea' if show_ea else 'Show Ea')\n",
    "    # Redraw the button to reflect the color change  \n",
    "    plt.draw()\n",
    "\n",
    "# Function to toggle ΔH arrow and label visibility\n",
    "def toggle_deltaH(event):\n",
    "    global show_deltaH\n",
    "    show_deltaH = not show_deltaH\n",
    "    update_plot()  # Call update_plot to recreate the arrow and label with updated values\n",
    "    toggle_deltaH_button.label.set_text('Hide ΔH' if show_deltaH else 'Show ΔH')\n",
    "    # Change button color based on show_ea state\n",
    "    plt.draw()\n",
    "\n",
    "def save_curve(event):\n",
    "    global color_index\n",
    "    deltaH_value = product_energy - reactant_energy\n",
    "    curve_color = get_color_for_deltaH(deltaH_value)\n",
    "\n",
    "    # Plot with the dynamic color\n",
    "    saved_curve, = ax.plot(x, compute_energy(), color=curve_color, lw=2)\n",
    "    saved_curves.append(saved_curve)\n",
    "\n",
    "    # Calculate variables for Ea arrow and label if needed\n",
    "    x_arrow = peak_x - 0.5  # Re-calculate the arrow position based on peak_x\n",
    "    y_start = reactant_energy\n",
    "    y_end = peak_y\n",
    "\n",
    "    # Check if Shift (or Control) is pressed to save Ea arrow\n",
    "    if shift_pressed:\n",
    "        # Save Ea arrow and label along with the curve\n",
    "        saved_ea_arrow = ax.annotate(\n",
    "            '', xy=(x_arrow, y_end), xytext=(x_arrow, y_start),\n",
    "            arrowprops=dict(arrowstyle='<->', color=curve_color, lw=2)\n",
    "        )\n",
    "        saved_curves.append(saved_ea_arrow)\n",
    "\n",
    "        saved_ea_label = ax.text(\n",
    "            x_arrow - 0.1, (y_start + y_end) / 2, r'$E_a$', color=curve_color,\n",
    "            weight='bold', ha='right', va='center'\n",
    "        )\n",
    "        saved_curves.append(saved_ea_label)\n",
    "\n",
    "    plt.draw()\n",
    "\n",
    "\n",
    "\n",
    "def on_double_click(event):\n",
    "    global saved_curves\n",
    "    if event.dblclick:  # Check if the event is a double-click\n",
    "        # Remove all saved curves from the plot\n",
    "        for curve in saved_curves:\n",
    "            curve.remove()\n",
    "        saved_curves = []  # Clear the list of saved curves\n",
    "        plt.draw()    \n",
    "\n",
    "\n",
    "# Define event handlers for dragging\n",
    "def on_press(event):\n",
    "    global dragging_point\n",
    "    if event.inaxes != ax:\n",
    "        return\n",
    "    # Find nearest handle (reactant, product, or TS)\n",
    "    points = [\n",
    "        (reactant_point, np.hypot(event.xdata - reactant_point.get_xdata()[0], event.ydata - reactant_point.get_ydata()[0])),\n",
    "        (product_point, np.hypot(event.xdata - product_point.get_xdata()[0], event.ydata - product_point.get_ydata()[0])),\n",
    "        (peak_point, np.hypot(event.xdata - peak_point.get_xdata()[0], event.ydata - peak_point.get_ydata()[0]))\n",
    "    ]\n",
    "    nearest_handle, min_dist = min(points, key=lambda t: t[1])\n",
    "    if min_dist < 0.2:  # threshold for selecting a handle\n",
    "        dragging_point = nearest_handle\n",
    "    else:\n",
    "        dragging_point = None\n",
    "\n",
    "def on_release(event):\n",
    "    global dragging_point\n",
    "    dragging_point = None\n",
    "\n",
    "def on_move(event):\n",
    "    global reactant_energy, product_energy, peak_y, endothermic_mode, exothermic_mode\n",
    "    if dragging_point is None or event.inaxes != ax or event.xdata is None or event.ydata is None:\n",
    "        return\n",
    "    y_new = event.ydata\n",
    "\n",
    "    if endothermic_mode:\n",
    "        if dragging_point == product_point:\n",
    "            # Ensure product energy is always >= reactant energy\n",
    "            product_energy = max(y_new, reactant_energy)\n",
    "            # Adjust transition state energy proportionally\n",
    "            peak_y = ENDOTHERMIC_PEAK_ENERGY + (product_energy - ENDOTHERMIC_PRODUCT_ENERGY) * 1.1  # Proportional increase\n",
    "        elif dragging_point == peak_point:\n",
    "            # Transition state energy is not directly adjustable in endothermic mode\n",
    "            pass\n",
    "    elif exothermic_mode:\n",
    "        if dragging_point == product_point:\n",
    "            # Ensure product energy is always <= reactant energy\n",
    "            product_energy = min(y_new, reactant_energy)\n",
    "            # Adjust transition state energy asymptotically\n",
    "            delta_E = reactant_energy - product_energy  # Energy difference between reactant and product\n",
    "            k = 0.15  # Scaling factor (adjust this value to control the rate of decay)\n",
    "            peak_y = reactant_energy + (EXOTHERMIC_PEAK_ENERGY - EXOTHERMIC_REACTANT_ENERGY) * np.exp(-k * delta_E)  # Asymptotic approach\n",
    "        elif dragging_point == peak_point:\n",
    "            # Transition state energy is not directly adjustable in exothermic mode\n",
    "            pass\n",
    "    else:\n",
    "        # Default mode logic\n",
    "        min_energy = max(reactant_energy, product_energy) + 0.1\n",
    "        if dragging_point == reactant_point:\n",
    "            reactant_energy = y_new\n",
    "            if reactant_energy > peak_y - 0.1:\n",
    "                reactant_energy = peak_y - 0.1\n",
    "        elif dragging_point == product_point:\n",
    "            product_energy = y_new\n",
    "            if product_energy > peak_y - 0.1:\n",
    "                product_energy = peak_y - 0.1\n",
    "        elif dragging_point == peak_point:\n",
    "            peak_y = y_new\n",
    "            min_peak = max(reactant_energy, product_energy) + 0.1\n",
    "            if peak_y < min_peak:\n",
    "                peak_y = min_peak\n",
    "\n",
    "    update_plot()\n",
    "\n",
    "\n",
    "\n",
    "def toggle_endothermic_mode(event):\n",
    "    global endothermic_mode, exothermic_mode, reactant_energy, product_energy, peak_y\n",
    "\n",
    "    # Toggle endothermic mode\n",
    "    endothermic_mode = not endothermic_mode\n",
    "\n",
    "    # If endothermic mode is activated, deactivate exothermic mode\n",
    "    if endothermic_mode:\n",
    "        exothermic_mode = False\n",
    "        reactant_energy = ENDOTHERMIC_REACTANT_ENERGY\n",
    "        product_energy = ENDOTHERMIC_PRODUCT_ENERGY\n",
    "        peak_y = ENDOTHERMIC_PEAK_ENERGY\n",
    "    else:\n",
    "        # Return to default mode\n",
    "        reactant_energy = 10\n",
    "        product_energy = 10\n",
    "        peak_y = 11.4\n",
    "\n",
    "    # Update the switch buttons\n",
    "    update_switch_buttons()\n",
    "\n",
    "    # Update the plot\n",
    "    update_plot()\n",
    "\n",
    "    if endothermic_mode:\n",
    "        endothermic_button.ax.set_facecolor('skyblue')      # on state\n",
    "        endothermic_button.color = 'skyblue'  # Set the button color\n",
    "        endothermic_button.hovercolor = 'lightgrey'  # Set the hover color\n",
    "    else:\n",
    "        endothermic_button.ax.set_facecolor('lightgrey') # off state\n",
    "        endothermic_button.color = 'lightgrey'  # Set the button color\n",
    "        endothermic_button.hovercolor = 'skyblue'  # Set the hover color\n",
    "\n",
    "\n",
    "def toggle_exothermic_mode(event):\n",
    "    global endothermic_mode, exothermic_mode, reactant_energy, product_energy, peak_y\n",
    "\n",
    "    # Toggle exothermic mode\n",
    "    exothermic_mode = not exothermic_mode\n",
    "\n",
    "    # If exothermic mode is activated, deactivate endothermic mode\n",
    "    if exothermic_mode:\n",
    "        endothermic_mode = False\n",
    "        reactant_energy = EXOTHERMIC_REACTANT_ENERGY\n",
    "        product_energy = EXOTHERMIC_PRODUCT_ENERGY\n",
    "        peak_y = EXOTHERMIC_PEAK_ENERGY\n",
    "    else:\n",
    "        # Return to default mode\n",
    "        reactant_energy = 10\n",
    "        product_energy = 10\n",
    "        peak_y = 11.4\n",
    "\n",
    "    # Update the switch buttons\n",
    "    update_switch_buttons()\n",
    "\n",
    "    # Update the plot\n",
    "    update_plot()\n",
    "        # Update button background color and text based on state\n",
    "\n",
    "    if exothermic_mode:\n",
    "        exothermic_button.ax.set_facecolor('lightcoral')      # on state\n",
    "        exothermic_button.color = 'lightcoral'  # Set the button color\n",
    "        exothermic_button.hovercolor = 'lightgrey'  # Set the hover color\n",
    "    else:\n",
    "        exothermic_button.ax.set_facecolor('lightgrey') # off state\n",
    "        exothermic_button.color = 'lightgrey'  # Set the button color\n",
    "        exothermic_button.hovercolor = 'lightcoral'  # Set the hover color\n",
    "\n",
    "\n",
    "def update_switch_buttons():\n",
    "    # Update the appearance of the buttons based on the active mode\n",
    "    if endothermic_mode:\n",
    "        endothermic_button.color = 'lightblue'  # Active color\n",
    "        exothermic_button.color = 'lightgray'    # Inactive color\n",
    "    elif exothermic_mode:\n",
    "        endothermic_button.color = 'lightgray'  # Inactive color\n",
    "        exothermic_button.color = 'pink'  # Active color\n",
    "    else:\n",
    "        endothermic_button.color = 'lightgray'  # Inactive color\n",
    "        exothermic_button.color = 'lightgray'    # Inactive color\n",
    "\n",
    "    # Redraw the buttons\n",
    "    endothermic_button.ax.figure.canvas.draw()\n",
    "    exothermic_button.ax.figure.canvas.draw()\n",
    "    \n",
    "def on_key_press(event):\n",
    "    global shift_pressed\n",
    "    if event.key in ['shift', 'control']:\n",
    "        shift_pressed = True\n",
    "\n",
    "    # Get current y-axis limits\n",
    "    ymin, ymax = ax.get_ylim()\n",
    "    y_range = ymax - ymin\n",
    "    zoom_factor = 0.8  # for zooming\n",
    "    pan_fraction = 0.1  # for panning\n",
    "\n",
    "    if event.key == 'right':  # zoom in\n",
    "        new_ymin = ymin + y_range * (1 - zoom_factor) / 2\n",
    "        new_ymax = ymax - y_range * (1 - zoom_factor) / 2\n",
    "        ax.set_ylim(new_ymin, new_ymax)\n",
    "        plt.draw()\n",
    "    elif event.key == 'left':  # zoom out\n",
    "        new_ymin = ymin - y_range * (1 - zoom_factor) / 2\n",
    "        new_ymax = ymax + y_range * (1 - zoom_factor) / 2\n",
    "        ax.set_ylim(new_ymin, new_ymax)\n",
    "        plt.draw()\n",
    "    elif event.key == 'down':  # translate up\n",
    "        shift = y_range * pan_fraction\n",
    "        ax.set_ylim(ymin + shift, ymax + shift)\n",
    "        plt.draw()\n",
    "    elif event.key == 'up':  # translate down\n",
    "        shift = y_range * pan_fraction\n",
    "        ax.set_ylim(ymin - shift, ymax - shift)\n",
    "        plt.draw()\n",
    "\n",
    "def on_key_release(event):\n",
    "    global shift_pressed\n",
    "    if event.key in ['shift', 'control']:\n",
    "        shift_pressed = False\n",
    "\n",
    "# Connect key press and release event handlers\n",
    "fig.canvas.mpl_connect('key_press_event', on_key_press)\n",
    "fig.canvas.mpl_connect('key_release_event', on_key_release)\n",
    "\n",
    "\n",
    "def auto_adjust_ylim(curves_y, padding=1):\n",
    "    \"\"\"\n",
    "    Adjust y-axis limits to fit within the y-values of given curves.\n",
    "    Args:\n",
    "        curves_y: list of y-value arrays\n",
    "        padding: space added above and below these y-values\n",
    "    \"\"\"\n",
    "    all_y = np.concatenate(curves_y)\n",
    "    ymin, ymax = np.min(all_y), np.max(all_y)\n",
    "    ax.set_ylim(ymin - padding, ymax + padding)\n",
    "    plt.draw()\n",
    "\n",
    "\n",
    "# Initialize toggle state\n",
    "labels_visible = True\n",
    "button_is_on = True  # True means labels are visible\n",
    "\n",
    "# Create the toggle button\n",
    "label_toggle_ax = plt.axes([0.4, 0.04, 0.2, 0.05])\n",
    "toggle_labels_button = Button(label_toggle_ax, 'Hide R, TS, P')\n",
    "\n",
    "# Set initial button color to plum (on)\n",
    "toggle_labels_button.ax.set_facecolor('violet')\n",
    "toggle_labels_button.color = 'violet'  # Set the button color\n",
    "toggle_labels_button.hovercolor = 'plum'  # Set the hover color\n",
    "\n",
    "# Define toggle function for labels and circle icons\n",
    "def toggle_labels(event):\n",
    "    global labels_visible, button_is_on\n",
    "    labels_visible = not labels_visible\n",
    "    button_is_on = not button_is_on\n",
    "    \n",
    "    # Set labels visibility\n",
    "    reactant_label.set_visible(labels_visible)\n",
    "    ts_label.set_visible(labels_visible)\n",
    "    product_label.set_visible(labels_visible)\n",
    "\n",
    "    # Set horizontal lines visibility\n",
    "    reactant_line.set_visible(labels_visible)\n",
    "    ts_line.set_visible(labels_visible)\n",
    "    product_line.set_visible(labels_visible)    \n",
    "    \n",
    "    # Set circle icons visibility\n",
    "    reactant_point.set_visible(labels_visible)\n",
    "    peak_point.set_visible(labels_visible)\n",
    "    product_point.set_visible(labels_visible)\n",
    "    \n",
    "    # Update button background color based on state\n",
    "    if button_is_on:\n",
    "        toggle_labels_button.ax.set_facecolor('violet')      # on state\n",
    "        toggle_labels_button.color = 'violet'  # Set the button color\n",
    "        toggle_labels_button.hovercolor = 'plum'  # Set the hover color\n",
    "        toggle_labels_button.label.set_text('Hide R, TS, P')\n",
    "    else:\n",
    "        toggle_labels_button.ax.set_facecolor('plum') # off state\n",
    "        toggle_labels_button.color = 'plum'  # Set the button color\n",
    "        toggle_labels_button.hovercolor = 'violet'  # Set the hover color\n",
    "        toggle_labels_button.label.set_text('Show R, TS, P')\n",
    "    \n",
    "    plt.draw()\n",
    "\n",
    "# Connect the button\n",
    "toggle_labels_button.on_clicked(toggle_labels)\n",
    "\n",
    "\n",
    "\n",
    "\n",
    "def get_color_for_deltaH(deltaH):\n",
    "    # Clamp the ΔH value to your specified range\n",
    "    deltaH_clamped = np.clip(deltaH, deltaH_min, deltaH_max)\n",
    "    # Normalize to [0,1]\n",
    "    t = (deltaH_clamped - deltaH_min) / (deltaH_max - deltaH_min)\n",
    "    # Return the color from the colormap\n",
    "    return cm(t)    \n",
    "\n",
    "\n",
    "# Connect event handlers\n",
    "fig.canvas.mpl_connect('button_press_event', on_press)\n",
    "fig.canvas.mpl_connect('button_release_event', on_release)\n",
    "fig.canvas.mpl_connect('motion_notify_event', on_move)\n",
    "\n",
    "#Hide the axis numbers\n",
    "ax.set_yticklabels([])\n",
    "ax.set_xticklabels([])\n",
    "\n",
    "# Adjust plot margins to create space for the button and x-axis label\n",
    "plt.subplots_adjust(bottom=0.25)\n",
    "\n",
    "# Create a button for toggling Ea visibility\n",
    "button_ax = plt.axes([0.15, 0.04, 0.2, 0.05])  # Position of the button\n",
    "toggle_button = Button(button_ax, 'Show Ea', color='lightgreen')\n",
    "\n",
    "# Set initial button color to off state\n",
    "toggle_button.ax.set_facecolor('lightgreen')\n",
    "toggle_button.color = 'lightgreen'  # Set the button color\n",
    "toggle_button.hovercolor = 'lime'  # Set the hover color\n",
    "\n",
    "# Function to toggle Ea arrow and label visibility\n",
    "def toggle_ea(event):\n",
    "    global show_ea\n",
    "    show_ea = not show_ea\n",
    "    update_plot()  # Call update_plot to recreate the arrow and label with updated values\n",
    "    \n",
    "    # Update button background color and text based on state\n",
    "    if show_ea:\n",
    "        toggle_button.ax.set_facecolor('lime')      # on state\n",
    "        toggle_button.color = 'lime'  # Set the button color\n",
    "        toggle_button.hovercolor = 'lightgreen'  # Set the hover color\n",
    "        toggle_button.label.set_text('Hide Ea')\n",
    "    else:\n",
    "        toggle_button.ax.set_facecolor('lightgreen') # off state\n",
    "        toggle_button.color = 'lightgreen'  # Set the button color\n",
    "        toggle_button.hovercolor = 'lime'  # Set the hover color\n",
    "        toggle_button.label.set_text('Show Ea')\n",
    "    \n",
    "    plt.draw()\n",
    "\n",
    "# Create a button for toggling ΔH visibility (positioned to the right of the first button)\n",
    "deltaH_button_ax = plt.axes([0.65, 0.04, 0.2, 0.05])  # [left, bottom, width, height]\n",
    "\n",
    "toggle_deltaH_button = Button(deltaH_button_ax, 'Show ΔH', color='lightgray')\n",
    "\n",
    "# Set initial button color of delta H\n",
    "toggle_deltaH_button.ax.set_facecolor('lightyellow')\n",
    "toggle_deltaH_button.color = 'lightyellow'  # Set the button color\n",
    "toggle_deltaH_button.hovercolor = 'yellow'  # Set the hover color\n",
    "\n",
    "# Function to toggle ΔH arrow and label visibility\n",
    "def toggle_deltaH(event):\n",
    "    global show_deltaH\n",
    "    show_deltaH = not show_deltaH\n",
    "    update_plot()  # Call update_plot to recreate the arrow and label with updated values\n",
    "    \n",
    "    # Update button background color and text based on state\n",
    "    if show_deltaH:\n",
    "        toggle_deltaH_button.ax.set_facecolor('yellow')      # on state\n",
    "        toggle_deltaH_button.color = 'yellow'  # Set the button color\n",
    "        toggle_deltaH_button.hovercolor = 'lightyellow'  # Set the hover color\n",
    "        toggle_deltaH_button.label.set_text('Hide ΔH')\n",
    "    else:\n",
    "        toggle_deltaH_button.ax.set_facecolor('lightyellow') # off state\n",
    "        toggle_deltaH_button.color = 'lightyellow'  # Set the button color\n",
    "        toggle_deltaH_button.hovercolor = 'yellow'  # Set the hover color\n",
    "        toggle_deltaH_button.label.set_text('Show ΔH')\n",
    "    \n",
    "    plt.draw()\n",
    "\n",
    "\n",
    "# Create a button for saving the current curve\n",
    "save_curve_button_ax = plt.axes([0.4, 0.12, 0.2, 0.05])  # Position of the button\n",
    "save_curve_button = Button(save_curve_button_ax, 'Store Curve', color='lightgrey')\n",
    "# Set initial button color\n",
    "save_curve_button.ax.set_facecolor('lightgray')\n",
    "save_curve_button.color = 'lightgray'\n",
    "save_curve_button.hovercolor = 'lightgray'\n",
    "\n",
    "# Create a gradient image\n",
    "gradient_image = np.linspace(0, 1, 256).reshape(1, -1)  # Smooth gradient from 0 to 1\n",
    "\n",
    "# Add the gradient image to the button\n",
    "gradient_ax = save_curve_button_ax.inset_axes([0, 0, 1, 1], zorder=-1)  # Place behind the button text\n",
    "gradient_ax.imshow(gradient_image, aspect='auto', cmap=cmap, extent=[0, 1, 0, 1])\n",
    "gradient_ax.axis('off')  # Hide the axes\n",
    "\n",
    "# Hide the gradient initially\n",
    "gradient_ax.set_visible(False)\n",
    "\n",
    "# Function to handle mouse hover events\n",
    "def on_hover(event):\n",
    "    if event.inaxes == save_curve_button_ax:\n",
    "        gradient_ax.set_visible(True)  # Show the gradient\n",
    "    else:\n",
    "        gradient_ax.set_visible(False)  # Hide the gradient\n",
    "    plt.draw()\n",
    "\n",
    "# Connect the hover event\n",
    "fig.canvas.mpl_connect('motion_notify_event', on_hover)\n",
    "\n",
    "# Function to handle button click events\n",
    "def store_curve(event):\n",
    "    print(\"Curve stored!\")\n",
    "\n",
    "# Connect the save curve button to its function\n",
    "save_curve_button.on_clicked(save_curve)\n",
    "\n",
    "# Connect the double-click event to its handler\n",
    "fig.canvas.mpl_connect('button_press_event', on_double_click)\n",
    "\n",
    "toggle_button.on_clicked(toggle_ea)\n",
    "\n",
    "toggle_deltaH_button.on_clicked(toggle_deltaH)\n",
    "\n",
    "# Add a button for toggling endothermic mode\n",
    "endothermic_button_ax = plt.axes([0.15, 0.12, 0.2, 0.05])  # Position of the button\n",
    "endothermic_button = Button(endothermic_button_ax, 'Endothermic', color='lightgray')\n",
    "\n",
    "# Set initial button color of endothermic button\n",
    "endothermic_button.ax.set_facecolor('lightgrey')\n",
    "endothermic_button.color = 'lightgrey'  # Set the button color\n",
    "endothermic_button.hovercolor = 'skyblue'  # Set the hover color\n",
    "\n",
    "endothermic_button.on_clicked(toggle_endothermic_mode)\n",
    "\n",
    "# Add a button for toggling exothermic mode\n",
    "exothermic_button_ax = plt.axes([0.65, 0.12, 0.2, 0.05])  # Position of the button\n",
    "exothermic_button = Button(exothermic_button_ax, 'Exothermic', color='lightgrey')\n",
    "# Set initial button color of endothermic button\n",
    "exothermic_button.ax.set_facecolor('lightgrey')\n",
    "exothermic_button.color = 'lightgrey'  # Set the button color\n",
    "exothermic_button.hovercolor = 'lightcoral'  # Set the hover color\n",
    "\n",
    "exothermic_button.on_clicked(toggle_exothermic_mode)\n",
    "\n",
    "# Make the button text bold\n",
    "save_curve_button.label.set_fontweight('bold')\n",
    "exothermic_button.label.set_fontweight('bold')\n",
    "endothermic_button.label.set_fontweight('bold')\n",
    "toggle_button.label.set_fontweight('bold')\n",
    "toggle_deltaH_button.label.set_fontweight('bold')\n",
    "toggle_labels_button.label.set_fontweight('bold')\n",
    "\n",
    "plt.show()\n"
   ]
  },
  {
   "cell_type": "code",
   "execution_count": null,
   "id": "20cbde8f-4ad3-47cf-9a33-e87f8f4b8b73",
   "metadata": {},
   "outputs": [],
   "source": []
  },
  {
   "cell_type": "code",
   "execution_count": null,
   "id": "b2af398f-4f69-44b5-824d-960107273fb8",
   "metadata": {},
   "outputs": [],
   "source": []
  }
 ],
 "metadata": {
  "kernelspec": {
   "display_name": "Python 3 (ipykernel)",
   "language": "python",
   "name": "python3"
  },
  "language_info": {
   "codemirror_mode": {
    "name": "ipython",
    "version": 3
   },
   "file_extension": ".py",
   "mimetype": "text/x-python",
   "name": "python",
   "nbconvert_exporter": "python",
   "pygments_lexer": "ipython3",
   "version": "3.13.3"
  }
 },
 "nbformat": 4,
 "nbformat_minor": 5
}
